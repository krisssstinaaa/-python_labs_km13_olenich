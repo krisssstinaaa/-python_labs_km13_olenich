{
  "cells": [
    {
      "cell_type": "markdown",
      "metadata": {
        "id": "FMqboNwO4rVs"
      },
      "source": [
        "# **Курс \"Програмування на мові Python\"**"
      ]
    },
    {
      "cell_type": "markdown",
      "metadata": {
        "id": "A2T6MigL5Z06"
      },
      "source": [
        "## **Практичне зайняття №13**\n",
        "\n",
        "### Тема: \"Робота з файлами\""
      ]
    },
    {
      "cell_type": "markdown",
      "metadata": {
        "id": "cfCdgK2zXm7e"
      },
      "source": [
        "### **Завдання 1 (1,5 бали)**\n",
        "\n",
        "У 1939 році друком вийшов роман американського письменика Ернеста Вінсента Райта \"Ґетсбі\". Особливу увагу публіки він здобув через те, що письменник жодного разу не використав у романі літеру \"e\" (роман складається з більше ніж 50,000 слів), яка є найбільш вживаною літерою в англійській мові.\n",
        "\n",
        "Порахуйте кількість входжень кожної літери у текст роману. Виведіть список літер англійського алфавіту, а також інформацію про те, скільки відсотків від усіх літер тексту складає кожна літера алфавіту.\n",
        "\n",
        "Зауваження:\n",
        "\n",
        "1. Програма має ігнорувати будь-які символи, окрім літер.\n",
        "\n",
        "2. Переведіть усі літери у верхній або у нижній регістр.\n",
        "\n",
        "3. Під час виведення відсортуйте літери у порядку зменшення їхнього відсотка. Літера \"e\" має стояти на останньому місці у цьому списку (хоча кілька літер e там все ж таки зустрічається).\n",
        "\n",
        "4. Виведіть перші 5 та останні 5 літер відсортованого списку разом з відсотковими значеннями, що їм відповідають. Відсотки округліть до тисячних."
      ]
    },
    {
      "cell_type": "code",
      "execution_count": 1,
      "metadata": {
        "id": "u4-fHJJ6U462",
        "tags": [
          "outputPrepend"
        ]
      },
      "outputs": [
        {
          "name": "stdout",
          "output_type": "stream",
          "text": [
            "{'a': 10.99, 'o': 10.652, 'i': 8.769, 'n': 8.671, 't': 8.665, 's': 6.948, 'l': 5.403, 'r': 4.912, 'h': 4.767, 'u': 4.297, 'd': 4.179, 'g': 3.51, 'y': 3.19, 'w': 2.759, 'c': 2.611, 'f': 2.134, 'm': 1.985, 'p': 1.871, 'b': 1.844, 'k': 1.174, 'v': 0.294, 'j': 0.169, 'z': 0.103, 'q': 0.053, 'x': 0.049, 'e': 0.002}\n"
          ]
        }
      ],
      "source": [
        "alphabet = 'abcdefghijklmnopqrstuvwxyz'\n",
        "with open(\"gadsby.txt\") as file:\n",
        "    content = file.read()\n",
        "    result = dict([(i, content.count(i)) for i in alphabet])\n",
        "\n",
        "total = 0\n",
        "for i in result:\n",
        "    total += result[i]\n",
        "\n",
        "letter_percents = dict([(i, round(result[i]*100/total, 3)) for i in alphabet])\n",
        "sorted_percents = {}\n",
        "sp = sorted(letter_percents, key = letter_percents.get, reverse = True)\n",
        "\n",
        "for i in sp:\n",
        "    sorted_percents[i] = letter_percents[i]\n",
        "\n",
        "print(sorted_percents)"
      ]
    },
    {
      "cell_type": "markdown",
      "metadata": {
        "id": "A34oz70eU463"
      },
      "source": [
        "### **Завдання 2 (1,5 бали)**\n",
        "\n",
        "Архів archive.zip містить 140 txt-файлів, в яких збережено інфорамцію про те, якими іменами називали дітей у США в період з 1880 по 2019 рік.\n",
        "\n",
        "Структура рядка кожного файлу така:\n",
        "\n",
        "*name,sex,number_of_occurrences*\n",
        "\n",
        "Напишіть програму, яка зчитуватиме кожен файл та визначатиме окремо чоловічі, окремо жіночі імена, що були найпопулярнішими хоча б в один з років. Далі програма повинна підраховувати, скільки разів кожне з цих імен ставало найпопулярнишим, та виводити ранжовані списки чоловічіх та жіночих імен у вигляді:\n",
        "\n",
        "```\n",
        "Michael 44\n",
        "John 44\n",
        "Robert 17\n",
        "...\n",
        "\n",
        "Mary 76\n",
        "Jennifer 15\n",
        "Emily 12\n",
        "...\n",
        "```"
      ]
    },
    {
      "cell_type": "code",
      "execution_count": null,
      "metadata": {},
      "outputs": [],
      "source": [
        "from os import listdir\n",
        "from os.path import isfile, join\n",
        "\n",
        "if __name__ == '__main__':\n",
        "    mypath = \"archive\"\n",
        "    fnames = [join(mypath, f) for f in listdir(mypath) if (isfile(join(mypath, f)) and not \".pdf\" in f)]\n",
        "    top_female = dict()\n",
        "    top_male = dict()\n",
        "    for f in fnames:\n",
        "        with open(f, \"r\") as f1:\n",
        "            female_found = False\n",
        "            male_found = False\n",
        "            for line in f1.readlines():\n",
        "                if female_found and male_found:\n",
        "                    break\n",
        "\n",
        "                d = line.split(\",\")\n",
        "                if len(d) == 0:\n",
        "                    continue\n",
        "                name = d[0]\n",
        "                sex = d[1]\n",
        "\n",
        "                if not male_found and sex == \"M\" and not name== \"\":\n",
        "                    if not name in top_male:\n",
        "                        top_male[name] = 1\n",
        "                    else:\n",
        "                        top_male[name] = top_male[name] + 1\n",
        "                    male_found = True\n",
        "                \n",
        "                if not female_found and sex == \"F\" and not name == \"\":\n",
        "                    if not name in top_female:\n",
        "                        top_female[name] = 1\n",
        "                    else:\n",
        "                        top_female[name] = top_female[name] + 1\n",
        "                    female_found = True\n",
        "    \n",
        "    top_male = dict(sorted(top_male.items(), key = lambda item: item[1], reverse=  True))\n",
        "    top_female = dict(sorted(top_female.items(), key = lambda item: item[1], reverse = True))\n",
        "\n",
        "    for name in top_male.keys():\n",
        "        print(name, top_male[name])\n",
        "\n",
        "    for name in top_female.keys():\n",
        "        print(name, top_female[name])\n"
      ]
    }
  ],
  "metadata": {
    "colab": {
      "collapsed_sections": [],
      "name": "Practice_14_KM_01.ipynb",
      "provenance": []
    },
    "kernelspec": {
      "display_name": "Python 3",
      "name": "python3"
    },
    "language_info": {
      "codemirror_mode": {
        "name": "ipython",
        "version": 3
      },
      "file_extension": ".py",
      "mimetype": "text/x-python",
      "name": "python",
      "nbconvert_exporter": "python",
      "pygments_lexer": "ipython3",
      "version": "3.9.9"
    }
  },
  "nbformat": 4,
  "nbformat_minor": 0
}
