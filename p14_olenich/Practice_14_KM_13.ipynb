{
  "cells": [
    {
      "cell_type": "markdown",
      "metadata": {
        "id": "FMqboNwO4rVs"
      },
      "source": [
        "# **Курс \"Програмування на мові Python\"**"
      ]
    },
    {
      "cell_type": "markdown",
      "metadata": {
        "id": "A2T6MigL5Z06"
      },
      "source": [
        "## **Практичне зайняття №14**\n",
        "\n",
        "### Тема: \"Робота зі спеціальними форматами файлів\""
      ]
    },
    {
      "cell_type": "markdown",
      "metadata": {
        "id": "A34oz70eU463"
      },
      "source": [
        "### **Завдання 1 (1,5 бали)**\n",
        "\n",
        "Створіть CSV-файл, що буде містити від 5 до 10 пісень (творів) вашого улюбленого музиканта. Назва файлу - ім'я музиканта (композитора) або назва гурту.\n",
        "\n",
        "1. Обов'язково додайте до файлу рядок з назвами двох колонок (Song, Year) або (Composition, Year).\n",
        "\n",
        "2. Після запису файлу роздрукуйте назву файлу та усі наявні у файлі рядки (включно із заголовками).\n",
        "\n",
        "3. Для запису та зчитування рядків скористайтесь функціями csv.DictWriter() та csv.DictReader()."
      ]
    },
    {
      "cell_type": "code",
      "execution_count": 3,
      "metadata": {
        "id": "MEJIrG1GU463"
      },
      "outputs": [
        {
          "name": "stdout",
          "output_type": "stream",
          "text": [
            "Starting to read mychemicalromance.csv\n",
            "Song Year \n",
            "------------------------------\n",
            "Teenagers 2006\n",
            "Welcome to the Black Parade 2006\n",
            "I`m not okay(I promise) 2004\n",
            "Helena 2004\n",
            "Famous Last Words 2006\n",
            "Na Na Na(Na Na Na Na Na Na Na Na Na) 2010\n",
            "You Know What They Do to Guys Like Us in Prison 2004\n",
            "Cancer 2006\n",
            "Dead! 2016\n",
            "Done\n"
          ]
        }
      ],
      "source": [
        "import csv\n",
        "\n",
        "with open(\"mychemicalromance.csv\", \"w\", newline = \"\") as csvfile:\n",
        "    fieldnames = [\"Song\", \"Year\"]\n",
        "    writer = csv.DictWriter(csvfile, fieldnames = fieldnames)\n",
        "    writer.writeheader()\n",
        "    writer.writerow({\"Song\" : \"Teenagers\",\n",
        "                    \"Year\" : \"2006\"})\n",
        "    writer.writerow({\"Song\" : \"Welcome to the Black Parade\",\n",
        "                    \"Year\" : \"2006\"})\n",
        "    writer.writerow({\"Song\" : \"I`m not okay(I promise)\",\n",
        "                    \"Year\" : \"2004\"})\n",
        "    writer.writerow({\"Song\" : \"Helena\",\n",
        "                    \"Year\" : \"2004\"})\n",
        "    writer.writerow({\"Song\" : \"Famous Last Words\",\n",
        "                    \"Year\" : \"2006\"})\n",
        "    writer.writerow({\"Song\" : \"Na Na Na(Na Na Na Na Na Na Na Na Na)\",\n",
        "                    \"Year\" : \"2010\"})\n",
        "    writer.writerow({\"Song\" : \"You Know What They Do to Guys Like Us in Prison\",\n",
        "                    \"Year\" : \"2004\"})\n",
        "    writer.writerow({\"Song\" : \"Cancer\",\n",
        "                    \"Year\" : \"2006\"})\n",
        "    writer.writerow({\"Song\" : \"Dead!\",\n",
        "                    \"Year\" : \"2016\"})     \n",
        "\n",
        "print(\"Starting to read mychemicalromance.csv\")\n",
        "with open(\"mychemicalromance.csv\", newline = \"\") as csvfile:\n",
        "    reader = csv.DictReader(csvfile)\n",
        "    for heading in reader.fieldnames:\n",
        "        print(heading, end=' ')\n",
        "    print('\\n------------------------------')\n",
        "    for row in reader:\n",
        "        print(row[\"Song\"], row[\"Year\"])\n",
        "print('Done')         "
      ]
    },
    {
      "cell_type": "markdown",
      "metadata": {
        "id": "Jb-eSBsWU464"
      },
      "source": [
        "### **Завдання 2 (1,5 бали)**\n",
        "\n",
        "COCO Dataset - набір фотографій та анотацій до них. Його дуже часто використовують для тренування класифікаторів, призначених для розпізнавання об'єктів та визначення ключових точок на зображеннях.\n",
        "\n",
        "Завантажте файли з описом фотографій COCO Dataset за посиланням: [COCO Dataset](http://images.cocodataset.org/annotations/image_info_test2017.zip).\n",
        "\n",
        "Відкрийте файл image_info_test-dev2017.json. Інформація про фотографії з бази COCO міститься у полі \"images\". Інформація про категорії, на які розділені всі фотографії, міститься у полі \"categories\".\n",
        "\n",
        "1. Визначте кількість фотографій, інформацію про які можна знайти у цьому файлі (кількість елементів, що відповідають ключу \"images\").\n",
        "\n",
        "2. Визначте кількість наявних категорій (кількість елементів, що відповідають ключу \"categories\").\n",
        "\n",
        "3. Виведіть посилання на фотографію 000000000001.jpg (\"coco_url\"). Також виведіть висоту цієї фотографії (\"height\"), ширину (\"width\") та її ідентифікатор (\"id\").\n",
        "\n",
        "4. Виведіть назву фотографії з набільшим номером.\n",
        "\n",
        "Опис структури JSON-файлу для набору фотографій COCO можна знайти за посиланням: [Data format](https://cocodataset.org/#format-data).\n",
        "\n",
        "Щоб перевірити правильність результатів, у VS Code встановіть розширення JSON та відкрийте файл image_info_test-dev2017.json. Розширення автоматично визначає кількість елементів у кожному полі."
      ]
    },
    {
      "cell_type": "code",
      "execution_count": 1,
      "metadata": {},
      "outputs": [
        {
          "name": "stdout",
          "output_type": "stream",
          "text": [
            "The number of images is 20288\n",
            "The number of categories is 80\n",
            "The link for 000000000001.jpg is http://images.cocodataset.org/test2017/000000000001.jpg\n",
            "The height of 000000000001.jpg is 480\n",
            "The width of 000000000001.jpg is 640\n",
            "The id for 000000000001.jpg is 1\n",
            "Picture with the largest number is 000000581918.jpg\n"
          ]
        }
      ],
      "source": [
        "import json\n",
        "\n",
        "data = json.load(open(\"image_info_test-dev2017.json\"))\n",
        "jtopy = json.dumps(data)\n",
        "dict_json = json.loads(jtopy)\n",
        "for i in data['images']:\n",
        "    if \"000000000001.jpg\" in i['coco_url']:\n",
        "            l = i['coco_url']\n",
        "            h = i['height']\n",
        "            w = i['width']\n",
        "            id = i['id']\n",
        "maxx = max(data['images'], key = lambda i: i['id'])\n",
        "print(\"The number of images is\", len(dict_json['images']))\n",
        "print(\"The number of categories is\", len(dict_json['categories']))\n",
        "print(\"The link for 000000000001.jpg is\", l)\n",
        "print(\"The height of 000000000001.jpg is\", h)\n",
        "print(\"The width of 000000000001.jpg is\", w)\n",
        "print(\"The id for 000000000001.jpg is\", id)\n",
        "print(\"Picture with the largest number is\", maxx['file_name'])"
      ]
    }
  ],
  "metadata": {
    "colab": {
      "collapsed_sections": [],
      "name": "Practice_14_KM_01.ipynb",
      "provenance": []
    },
    "kernelspec": {
      "display_name": "Python 3",
      "name": "python3"
    },
    "language_info": {
      "codemirror_mode": {
        "name": "ipython",
        "version": 3
      },
      "file_extension": ".py",
      "mimetype": "text/x-python",
      "name": "python",
      "nbconvert_exporter": "python",
      "pygments_lexer": "ipython3",
      "version": "3.9.9"
    }
  },
  "nbformat": 4,
  "nbformat_minor": 0
}
